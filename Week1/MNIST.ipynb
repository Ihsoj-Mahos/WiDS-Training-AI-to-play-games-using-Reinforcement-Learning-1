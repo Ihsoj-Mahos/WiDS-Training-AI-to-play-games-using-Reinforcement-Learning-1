{
  "cells": [
    {
      "cell_type": "markdown",
      "metadata": {
        "id": "mWpoHJk49783"
      },
      "source": [
        "# Classification of Handwritten Digits from the MNIST Database\n",
        "\n",
        "We will illustrate multiple Machine Learning algorithms by using them for classifying handwritten digits."
      ]
    },
    {
      "cell_type": "markdown",
      "metadata": {
        "id": "EONoh6K29784"
      },
      "source": [
        "# Using Classwise Logistic Regression\n",
        "\n",
        "Here we perform [logistic regression](http://ufldl.stanford.edu/tutorial/supervised/LogisticRegression/) on each class of digit. For a given digit, then we choose the class with maximum (log) likelihood that the digit belongs to that class. We use stochastic gradient descent to get the values of the regression parameters. \n",
        "\n",
        "Note here that these likelihoods are not probabilities that the digit belongs to a particular class (they need not even sum to 1). This is a discriminative algorithm.\n",
        "\n",
        "The naive implementation of this algorithm is unlikely to give a very good result, as for each class the ratio of members of the class to non-members of the class is 1 : 9 (ie, the data is biased). Therefore, we correct for the bias in the data by taking a 1 : 1 ratio of class members and non-class members during gradient descent. "
      ]
    },
    {
      "cell_type": "code",
      "execution_count": 12,
      "metadata": {
        "id": "scEtLaNjlkI-"
      },
      "outputs": [],
      "source": [
        "# Import Statements\n",
        "\n",
        "import tensorflow as tf\n",
        "import numpy as np\n",
        "import matplotlib.pyplot as plt\n",
        "import statistics\n",
        "from sklearn.kernel_approximation import RBFSampler\n",
        "from sklearn.linear_model import SGDClassifier\n",
        "from sklearn.linear_model import LogisticRegression\n",
        "from sklearn.naive_bayes import GaussianNB\n",
        "from sklearn import svm"
      ]
    },
    {
      "cell_type": "code",
      "execution_count": 27,
      "metadata": {
        "id": "WYuGOf5V9786"
      },
      "outputs": [],
      "source": [
        "class MNIST_classifier : \n",
        "\n",
        "    def __init__(self, NUM_ITER = 6000, LEARN_RATE = 1e-2, BATCH_SIZE = 360, type_input = \"logistic\", Linear = True) : \n",
        "\n",
        "        # Our hyperparameters\n",
        "        self.NUM_ITER = NUM_ITER\n",
        "        self.LEARN_RATE = LEARN_RATE\n",
        "        self.BATCH_SIZE = BATCH_SIZE\n",
        "        self.Linear = Linear\n",
        "        self.rbf_feature = RBFSampler(gamma=1, random_state=1)\n",
        "\n",
        "        (x_train, y_train), (x_test, y_test) = tf.keras.datasets.mnist.load_data()\n",
        "        x_train_r = np.zeros((x_train.shape[0], 1 + x_train.shape[1]*x_train.shape[2]))\n",
        "        \n",
        "        mean = np.mean(x_train.reshape(x_train.shape[0], x_train.shape[1]*x_train.shape[2]), axis=0)\n",
        "        std_dev = np.std(x_train.reshape(x_train.shape[0], x_train.shape[1]*x_train.shape[2]), axis=0)\n",
        "\n",
        "        for i in range(std_dev.shape[0]):\n",
        "            if np.isclose(std_dev[i], 0):\n",
        "                std_dev[i] = 1 # if STD DEV is close to 0, x - mean will already be close to 0, so we don't normalize\n",
        "\n",
        "        for i in range(x_train_r.shape[0]):\n",
        "            x_train_r[i] = np.insert((np.reshape(x_train[i], (x_train.shape[1]*x_train.shape[2], )) - mean)/std_dev, 0, 1)\n",
        "        \n",
        "        \n",
        "        self.x_train = x_train\n",
        "        self.y_train = y_train\n",
        "        self.x_train_r = x_train_r\n",
        "\n",
        "        self.x_test = x_test\n",
        "        self.y_test = y_test\n",
        "\n",
        "        self.mean = mean\n",
        "        self.std_dev = std_dev\n",
        "\n",
        "        # Correct for bias in data\n",
        "        num_to_list = {}\n",
        "        for i in range(10):\n",
        "            num_to_list[i] = []\n",
        "\n",
        "        for i in range(x_train_r.shape[0]):\n",
        "            num_to_list[y_train[i]].append(i)\n",
        "\n",
        "        for i in range(10):\n",
        "            num_to_list[i] = np.array(num_to_list[i])\n",
        "\n",
        "        self.num_to_list = num_to_list\n",
        "        self.type_input = type_input\n",
        "        if type_input == \"logistic\" :\n",
        "          self.lr = LogisticRegression(multi_class='multinomial', warm_start=True, max_iter=self.BATCH_SIZE)\n",
        "  \n",
        "        elif type_input == \"softmax\" :\n",
        "          self.lr = SGDClassifier(loss=\"log\")\n",
        "          \n",
        "        elif type_input == \"GDA\" :\n",
        "          self.lr = GaussianNB()\n",
        "\n",
        "        \n",
        "        elif type_input == \"SVM\" : \n",
        "          self.lr = [SGDClassifier(max_iter = self.BATCH_SIZE, loss=\"hinge\", penalty=\"l2\") for i in range(45)]\n",
        "\n",
        "    def grad_descent(self, digit, iterations, learning_rate):\n",
        "        if self.type_input == \"softmax\" or self.type_input == \"GDA\": \n",
        "            for _ in range(iterations) :\n",
        "                batch = np.concatenate(tuple([np.random.choice(self.num_to_list[p], int(self.BATCH_SIZE/9)) for p in range(10)]))\n",
        "                batch_x = [self.x_train_r[i] for i in batch]\n",
        "                batch_y = [self.y_train[i] for i in batch]\n",
        "                self.lr.partial_fit(batch_x, batch_y, classes = tuple(range(10)))\n",
        "\n",
        "        elif self.type_input == \"SVM\" :\n",
        "            for i in range(10) : \n",
        "                for j in range(i+1, 10) : \n",
        "                    for _ in range(iterations) :\n",
        "                        batch = np.concatenate(tuple([np.random.choice(self.num_to_list[p], int(self.BATCH_SIZE/2)) if p == i else np.random.choice(self.num_to_list[p], int(self.BATCH_SIZE/2)) for p in [i, j]]))\n",
        "                        batch_x = [self.x_train_r[i] for i in batch]\n",
        "                        batch_y = [self.y_train[i] for i in batch]\n",
        "                        if not self.Linear :\n",
        "                          \n",
        "                          batch_x = self.rbf_feature.fit_transform(batch_x)\n",
        "                        self.lr[int(45-(10-i)*(9-i)/2+j-i-1)].partial_fit(batch_x, batch_y, classes = (i, j))\n",
        "            \n",
        "        elif self.type_input == \"logistic\" :\n",
        "            for _ in range(iterations) :\n",
        "                batch = np.concatenate(tuple([np.random.choice(self.num_to_list[p], int(self.BATCH_SIZE/2)) if p == digit else np.random.choice(self.num_to_list[p], int(self.BATCH_SIZE/18)) for p in range(10)]))\n",
        "                batch_x = [self.x_train_r[i] for i in batch]\n",
        "                batch_y = [self.y_train[i] for i in batch]\n",
        "                self.lr.fit(batch_x, batch_y)\n",
        "\n",
        "    def train_model(self) :\n",
        "        if self.type_input == \"softmax\" or self.type_input == \"GDA\" or self.type_input == \"SVM\":\n",
        "            self.grad_descent(0, self.NUM_ITER, self.LEARN_RATE)\n",
        "\n",
        "        if self.type_input == \"logistic\":\n",
        "            for i in range(10) : \n",
        "              self.grad_descent(i, self.NUM_ITER//10, self.LEARN_RATE)\n",
        "\n",
        "    def prediction(self, digit) :\n",
        "        if self.type_input == \"SVM\" and self.Linear == True: \n",
        "          r_dig = np.insert((np.reshape(digit, (self.x_train.shape[1]*self.x_train.shape[2], )) - self.mean)/self.std_dev, 0, 1)\n",
        "          freq = [i.predict(np.reshape(r_dig, (1, 785)))[0] for i in self.lr]\n",
        "          return statistics.mode(freq)\n",
        "\n",
        "        elif self.type_input == \"SVM\" : \n",
        "          r_dig = np.insert((np.reshape(digit, (self.x_train.shape[1]*self.x_train.shape[2], )) - self.mean)/self.std_dev, 0, 1)\n",
        "          freq = [i.predict(self.rbf_feature.fit_transform(np.reshape(r_dig, (1, 785))))[0] for i in self.lr]\n",
        "          return statistics.mode(freq)\n",
        "\n",
        "        else : \n",
        "          r_dig = np.insert((np.reshape(digit, (self.x_train.shape[1]*self.x_train.shape[2], )) - self.mean)/self.std_dev, 0, 1)\n",
        "          return self.lr.predict(np.reshape(r_dig, (1, 785)))[0]\n",
        "    \n",
        "    def tester(self) : \n",
        "        i = np.random.randint(0, self.x_test.shape[0])\n",
        "        plt.imshow(self.x_test[i])\n",
        "        print(f'Predicted: {self.prediction(self.x_test[i])}')\n",
        "        print(f'Actual: {self.y_test[i]}')\n",
        "\n",
        "    def accuracy(self) : \n",
        "\n",
        "        num_occ = 0\n",
        "        for i in range(self.x_test.shape[0]):\n",
        "            if self.prediction(self.x_test[i]) == self.y_test[i]:\n",
        "                num_occ += 1\n",
        "\n",
        "        print(f'Accuracy: {num_occ*100/self.x_test.shape[0]}%')"
      ]
    },
    {
      "cell_type": "code",
      "execution_count": 4,
      "metadata": {
        "colab": {
          "base_uri": "https://localhost:8080/"
        },
        "id": "dTHYpHG8MVQc",
        "outputId": "06acb2cf-70b3-4503-882d-c966692798ad"
      },
      "outputs": [
        {
          "name": "stdout",
          "output_type": "stream",
          "text": [
            "Accuracy: 69.37%\n"
          ]
        }
      ],
      "source": [
        "# Execution time ~ 2 minutes\n",
        "\n",
        "model = MNIST_classifier(100, 1e-2, 180, \"logistic\")\n",
        "model.train_model()\n",
        "model.accuracy()"
      ]
    },
    {
      "cell_type": "code",
      "execution_count": 6,
      "metadata": {
        "colab": {
          "base_uri": "https://localhost:8080/",
          "height": 300
        },
        "id": "_tW6zBmP9788",
        "outputId": "0482ab69-f655-480a-a873-5d00ca8ec713"
      },
      "outputs": [
        {
          "name": "stdout",
          "output_type": "stream",
          "text": [
            "Predicted: 9\n",
            "Actual: 5\n"
          ]
        },
        {
          "data": {
            "image/png": "[encoded data removed]",
            "text/plain": [
              "<Figure size 432x288 with 1 Axes>"
            ]
          },
          "metadata": {
            "needs_background": "light"
          },
          "output_type": "display_data"
        }
      ],
      "source": [
        "model.tester()"
      ]
    },
    {
      "cell_type": "markdown",
      "metadata": {
        "id": "Dw2Qp9KS9788"
      },
      "source": [
        "With ```6000``` iterations of gradient descent, a learning rate of ```0.01``` and a minibatch size of ```180```, we get an accuracy of ```88.54%```."
      ]
    },
    {
      "cell_type": "markdown",
      "metadata": {
        "id": "e07m5KTu9788"
      },
      "source": [
        "## Using Softmax Regression\n",
        "\n",
        "[This](http://deeplearning.stanford.edu/tutorial/supervised/SoftmaxRegression/) is more appropriate for multiclass classification than plain logistic regression. Here the probabilities of a digit belonging to a class are drawn from a multivariate Bernoulli distribution, on which we perform maximum likelihood estimation via stochastic gradient descent. \n",
        "\n",
        "This is also a discriminative model."
      ]
    },
    {
      "cell_type": "code",
      "execution_count": null,
      "metadata": {
        "colab": {
          "base_uri": "https://localhost:8080/"
        },
        "id": "i9HaQhGr9788",
        "outputId": "38936a5c-1cdd-4e97-ddd5-408a757b85a0"
      },
      "outputs": [
        {
          "name": "stdout",
          "output_type": "stream",
          "text": [
            "Accuracy: 91.17%\n"
          ]
        }
      ],
      "source": [
        "model = MNIST_classifier(600, 1e-2, 180, \"softmax\")\n",
        "model.train_model()\n",
        "model.accuracy()"
      ]
    },
    {
      "cell_type": "code",
      "execution_count": null,
      "metadata": {
        "colab": {
          "base_uri": "https://localhost:8080/",
          "height": 300
        },
        "id": "JngDgv0Q9789",
        "outputId": "d06fa910-de54-47cb-a132-8b3bd50c3af6"
      },
      "outputs": [
        {
          "name": "stdout",
          "output_type": "stream",
          "text": [
            "Predicted: 5\n",
            "Actual: 5\n"
          ]
        },
        {
          "data": {
            "image/png": "[encoded data removed]",
            "text/plain": [
              "<Figure size 432x288 with 1 Axes>"
            ]
          },
          "metadata": {
            "needs_background": "light"
          },
          "output_type": "display_data"
        }
      ],
      "source": [
        "model.tester()"
      ]
    },
    {
      "cell_type": "markdown",
      "metadata": {
        "id": "QPNOukgX978-"
      },
      "source": [
        "With ```8000``` iterations of gradient descent, a learning rate of ```0.01``` and a minibatch size of ```500```, we get an accuracy of ```90.13%```."
      ]
    },
    {
      "cell_type": "markdown",
      "metadata": {
        "id": "1eaE91Gk978_"
      },
      "source": [
        "## Gaussian Discriminant Analysis\n",
        "\n",
        "We assume each class of digit is distributed according to some Multivariate Gaussian whose mean and covariance we calculate (using the sample mean and sample covariance of each digit). Have a look at the slides on Multivariate Gaussian for an overview.\n",
        "\n",
        "To classify a digit then, we choose the class such that the probability that the digit belongs to the class is maximum. We calculate this probability using Baye's Theorem ( $P(y | x) = \\frac{P(x | y)P(y)}{P(x)}$ ). This is an example of a generative learning model.\n",
        "\n",
        "However, while calculating the sample covariance, it will come out to be singular or almost singular, as there are a large number of principal components with eigenvalues close to 0 (or 0). Therefore, we must reduce the dimensionality of the data by projecting it onto the space spanned by the first few principal components. Note that since we're already calculating the principal components here, there is no need to normalize the data."
      ]
    },
    {
      "cell_type": "code",
      "execution_count": null,
      "metadata": {
        "colab": {
          "base_uri": "https://localhost:8080/"
        },
        "id": "Mi548BRt978_",
        "outputId": "30f22bf0-5d4c-4734-ae93-741a74108f05"
      },
      "outputs": [
        {
          "name": "stdout",
          "output_type": "stream",
          "text": [
            "Accuracy: 54.99%\n"
          ]
        }
      ],
      "source": [
        "model = MNIST_classifier(600, 1e-2, 180, \"GDA\")\n",
        "model.train_model()\n",
        "model.accuracy()"
      ]
    },
    {
      "cell_type": "code",
      "execution_count": null,
      "metadata": {
        "colab": {
          "base_uri": "https://localhost:8080/",
          "height": 300
        },
        "id": "aXiDyIQp978_",
        "outputId": "cc71c0ad-13c4-4c68-f391-67e53ebc770f"
      },
      "outputs": [
        {
          "name": "stdout",
          "output_type": "stream",
          "text": [
            "Predicted: 6\n",
            "Actual: 6\n"
          ]
        },
        {
          "data": {
            "image/png": "[encoded data removed]",
            "text/plain": [
              "<Figure size 432x288 with 1 Axes>"
            ]
          },
          "metadata": {
            "needs_background": "light"
          },
          "output_type": "display_data"
        }
      ],
      "source": [
        "model.tester()"
      ]
    },
    {
      "cell_type": "markdown",
      "metadata": {
        "id": "EHqXEkAW979A"
      },
      "source": [
        "### Hyperparameter Tuning\n",
        "The hyperparameter here is the number of principal components considered. We choose the number that maximizes the accuracy on testing.\n",
        "\n",
        "| Number of Principal Components           | Accuracy               |\n",
        "| ---------------------------------------- | -----------------------|\n",
        "| ```1```                                  | ```4.55%```            |\n",
        "| ```80```                                 | ```94.24%```           |\n",
        "| ```150```                                | ```95.59%```           |\n",
        "| ```240```                                | ```94.78%```           |\n",
        "| ```320```                                | ```93.72%```           |\n",
        "| ```400```                                | ```91.45%```           |\n",
        "| ```480```                                | ```87.61%```           |\n",
        "| ```560```                                | ```65.83%```           |\n",
        "| ```640```                                | ```9.8%```             |\n",
        "| ```720```                                | ```9.8%```             |\n",
        "| ```784```                                | ```9.8%```             |\n"
      ]
    },
    {
      "cell_type": "markdown",
      "metadata": {
        "id": "C_277JzP979A"
      },
      "source": [
        "# Using Support Vector Machines\n",
        "\n",
        "Here we make ${10\\choose 2} = 45$ support vector machines that can distinguish every pair of classes. We will use Linear and RBF/Gaussian Kernels for the support vector machines and use Constrained Stochastic Gradient Descent for optimization.\n",
        "\n",
        "The support vector machine is another discriminative algorithm, but this one can identify non-linear decision boundaries as well.\n",
        "\n",
        "For a given image, we will map it to the digit to which it is classified the most (on average, the image will be mapped to the correct digit $\\frac{9}{4}$ times more than the other digits)."
      ]
    },
    {
      "cell_type": "code",
      "execution_count": 32,
      "metadata": {
        "colab": {
          "base_uri": "https://localhost:8080/"
        },
        "id": "iPr-Ca6o979B",
        "outputId": "43671f36-0130-4df8-c80b-c5baa6e3089c"
      },
      "outputs": [
        {
          "name": "stdout",
          "output_type": "stream",
          "text": [
            "Accuracy: 91.69%\n"
          ]
        }
      ],
      "source": [
        "# Running time ~ 1 min\n",
        "\n",
        "model = MNIST_classifier(200, 1e-2, 180, \"SVM\", True)\n",
        "model.train_model()\n",
        "model.accuracy()"
      ]
    },
    {
      "cell_type": "code",
      "execution_count": 34,
      "metadata": {
        "colab": {
          "base_uri": "https://localhost:8080/",
          "height": 300
        },
        "id": "2QNYIkbS979B",
        "outputId": "7bc695c4-f832-461d-c184-06c55b8013d0"
      },
      "outputs": [
        {
          "name": "stdout",
          "output_type": "stream",
          "text": [
            "Predicted: 4\n",
            "Actual: 4\n"
          ]
        },
        {
          "data": {
            "image/png": "[encoded data removed]",
            "text/plain": [
              "<Figure size 432x288 with 1 Axes>"
            ]
          },
          "metadata": {
            "needs_background": "light"
          },
          "output_type": "display_data"
        }
      ],
      "source": [
        "model.tester()"
      ]
    },
    {
      "cell_type": "code",
      "execution_count": null,
      "metadata": {
        "id": "2TOJHstaM37D"
      },
      "outputs": [],
      "source": []
    }
  ],
  "metadata": {
    "colab": {
      "provenance": []
    },
    "kernelspec": {
      "display_name": "Python 3",
      "language": "python",
      "name": "python3"
    },
    "language_info": {
      "codemirror_mode": {
        "name": "ipython",
        "version": 3
      },
      "file_extension": ".py",
      "mimetype": "text/x-python",
      "name": "python",
      "nbconvert_exporter": "python",
      "pygments_lexer": "ipython3",
      "version": "3.8.10 (default, Nov 14 2022, 12:59:47) \n[GCC 9.4.0]"
    },
    "orig_nbformat": 4,
    "vscode": {
      "interpreter": {
        "hash": "31f2aee4e71d21fbe5cf8b01ff0e069b9275f58929596ceb00d14d90e3e16cd6"
      }
    }
  },
  "nbformat": 4,
  "nbformat_minor": 0
}
